{
  "nbformat": 4,
  "nbformat_minor": 0,
  "metadata": {
    "colab": {
      "name": "Cirq_1.ipynb",
      "provenance": [],
      "collapsed_sections": [],
      "authorship_tag": "ABX9TyOgroqBCg82ArRPuNOmlH1n",
      "include_colab_link": true
    },
    "kernelspec": {
      "name": "python3",
      "display_name": "Python 3"
    },
    "language_info": {
      "name": "python"
    }
  },
  "cells": [
    {
      "cell_type": "markdown",
      "metadata": {
        "id": "view-in-github",
        "colab_type": "text"
      },
      "source": [
        "<a href=\"https://colab.research.google.com/github/agneya-1402/QuantumComputing_2/blob/main/Cirq_1.ipynb\" target=\"_parent\"><img src=\"https://colab.research.google.com/assets/colab-badge.svg\" alt=\"Open In Colab\"/></a>"
      ]
    },
    {
      "cell_type": "code",
      "execution_count": null,
      "metadata": {
        "id": "pQfTl3CNOkly"
      },
      "outputs": [],
      "source": [
        "!pip install cirq"
      ]
    },
    {
      "cell_type": "code",
      "source": [
        "import cirq\n",
        "\n",
        "\n",
        "circuit = cirq.Circuit()  \n",
        "(q0, q1) = cirq.LineQubit.range(2)\n",
        "\n",
        "circuit.append([cirq.H(q0), cirq.CNOT(q0,q1)])\n",
        "circuit.append([cirq.measure(q0), cirq.measure(q1)])\n",
        "\n",
        "print(circuit)\n",
        "\n",
        "print(\"\")\n",
        "\n",
        "sim = cirq.Simulator()\n",
        "results = sim.run(circuit, repetitions = 10)\n",
        "print(results)"
      ],
      "metadata": {
        "colab": {
          "base_uri": "https://localhost:8080/"
        },
        "id": "Mf4-vuWMPAya",
        "outputId": "f86d55d1-b7b0-4650-c144-d5e8895eb232"
      },
      "execution_count": 6,
      "outputs": [
        {
          "output_type": "stream",
          "name": "stdout",
          "text": [
            "0: ───H───@───M───\n",
            "          │\n",
            "1: ───────X───M───\n",
            "\n",
            "0=1101010000\n",
            "1=1101010000\n"
          ]
        }
      ]
    },
    {
      "cell_type": "code",
      "source": [
        "\n"
      ],
      "metadata": {
        "id": "QFgQQPJ-PYck"
      },
      "execution_count": null,
      "outputs": []
    }
  ]
}